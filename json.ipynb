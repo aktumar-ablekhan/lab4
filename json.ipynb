{
 "cells": [
  {
   "cell_type": "code",
   "execution_count": 18,
   "id": "991f3e8b-c3fc-4db0-bf2f-67bf6b1a7da6",
   "metadata": {},
   "outputs": [
    {
     "name": "stdout",
     "output_type": "stream",
     "text": [
      "Interface Status\n",
      "================================================================================\n",
      "DN                                                 Description           Speed    MTU  \n",
      "-------------------------------------------------- --------------------  ------  ------\n",
      "topology/pod-1/node-201/sys/phys-[eth1/33]                              inherit  9150\n",
      "topology/pod-1/node-201/sys/phys-[eth1/34]                              inherit  9150\n",
      "topology/pod-1/node-201/sys/phys-[eth1/35]                              inherit  9150\n",
      "topology/pod-1/node-201/sys/phys-[eth1/36]                              inherit  9150\n",
      "topology/pod-1/node-201/sys/phys-[eth1/1]                               inherit  9150\n",
      "topology/pod-1/node-201/sys/phys-[eth1/2]                               inherit  9150\n",
      "topology/pod-1/node-201/sys/phys-[eth1/3]                               inherit  9150\n",
      "topology/pod-1/node-201/sys/phys-[eth1/4]                               inherit  9150\n",
      "topology/pod-1/node-201/sys/phys-[eth1/5]                               inherit  9150\n",
      "topology/pod-1/node-201/sys/phys-[eth1/6]                               inherit  9150\n",
      "topology/pod-1/node-201/sys/phys-[eth1/7]                               inherit  9150\n",
      "topology/pod-1/node-201/sys/phys-[eth1/8]                               inherit  9150\n",
      "topology/pod-1/node-201/sys/phys-[eth1/9]                               inherit  9150\n",
      "topology/pod-1/node-201/sys/phys-[eth1/10]                              inherit  9150\n",
      "topology/pod-1/node-201/sys/phys-[eth1/11]                              inherit  9150\n",
      "topology/pod-1/node-201/sys/phys-[eth1/12]                              inherit  9150\n",
      "topology/pod-1/node-201/sys/phys-[eth1/13]                              inherit  9150\n",
      "topology/pod-1/node-201/sys/phys-[eth1/14]                              inherit  9150\n"
     ]
    }
   ],
   "source": [
    "import json\n",
    "\n",
    "with open(r\"C:\\Users\\User\\Downloads\\sample-data.json\") as file:\n",
    "    data = json.load(file)\n",
    "\n",
    "print(\"Interface Status\")\n",
    "print(\"================================================================================\")\n",
    "print(\"DN                                                 Description           Speed    MTU  \")\n",
    "print(\"-------------------------------------------------- --------------------  ------  ------\")\n",
    "\n",
    "for item in data[\"imdata\"]:\n",
    "    attributes = item[\"l1PhysIf\"][\"attributes\"]\n",
    "    dn = attributes[\"dn\"]          \n",
    "    descr = attributes[\"descr\"]    \n",
    "    speed = attributes[\"speed\"]     \n",
    "    mtu = attributes[\"mtu\"]      \n",
    "\n",
    "    print(f\"{dn:<50} {descr:<20} {speed:<8} {mtu}\")"
   ]
  }
 ],
 "metadata": {
  "kernelspec": {
   "display_name": "Python [conda env:base] *",
   "language": "python",
   "name": "conda-base-py"
  },
  "language_info": {
   "codemirror_mode": {
    "name": "ipython",
    "version": 3
   },
   "file_extension": ".py",
   "mimetype": "text/x-python",
   "name": "python",
   "nbconvert_exporter": "python",
   "pygments_lexer": "ipython3",
   "version": "3.12.7"
  }
 },
 "nbformat": 4,
 "nbformat_minor": 5
}
