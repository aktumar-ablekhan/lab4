{
 "cells": [
  {
   "cell_type": "code",
   "execution_count": 1,
   "id": "cb8a2aa9-5738-43b8-ba15-a4ec4dca361e",
   "metadata": {},
   "outputs": [
    {
     "name": "stdout",
     "output_type": "stream",
     "text": [
      "Current time:  2025-02-16\n",
      "Substact five days :  2025-02-11\n"
     ]
    }
   ],
   "source": [
    "from datetime import date,  timedelta, datetime\n",
    "current = date.today() - timedelta(5)\n",
    "print(\"Current time: \", date.today())\n",
    "print(\"Substact five days : \",current)"
   ]
  },
  {
   "cell_type": "code",
   "execution_count": 3,
   "id": "9a92a0af-3b18-46ef-b917-f6e12e52c525",
   "metadata": {},
   "outputs": [
    {
     "name": "stdout",
     "output_type": "stream",
     "text": [
      "yesterday :  2025-02-15\n",
      "today:  2025-02-16\n",
      "tomorrow :  2025-02-17\n"
     ]
    }
   ],
   "source": [
    "from datetime import date,  timedelta, datetime\n",
    "yesterday = date.today() - timedelta(1)\n",
    "tomorrow = date.today() + timedelta(1)\n",
    "print(\"yesterday : \",yesterday)\n",
    "print(\"today: \", date.today())\n",
    "print(\"tomorrow : \",tomorrow)"
   ]
  },
  {
   "cell_type": "code",
   "execution_count": 5,
   "id": "58d81023-d037-400a-87e7-d30a53aa89bf",
   "metadata": {},
   "outputs": [
    {
     "name": "stdout",
     "output_type": "stream",
     "text": [
      "2025-02-16, 20:37:59\n"
     ]
    }
   ],
   "source": [
    "from datetime import date,timedelta,datetime\n",
    "time = datetime.now()\n",
    "withoutmiliseconds = time.strftime(\"%Y-%m-%d, %H:%M:%S\")\n",
    "print(withoutmiliseconds)"
   ]
  },
  {
   "cell_type": "code",
   "execution_count": 7,
   "id": "fb819c4e-1894-4d76-9868-0d40873eb4da",
   "metadata": {},
   "outputs": [
    {
     "name": "stdout",
     "output_type": "stream",
     "text": [
      "172800.0\n"
     ]
    }
   ],
   "source": [
    "from datetime import date,timedelta, datetime\n",
    "yesterday = datetime.now()-timedelta(1)\n",
    "tomorrow = datetime.now()+timedelta(1)\n",
    "\n",
    "\n",
    "yesterday = datetime.timestamp(yesterday)\n",
    "tomorrow = datetime.timestamp(tomorrow)\n",
    "\n",
    "print(tomorrow-yesterday)"
   ]
  }
 ],
 "metadata": {
  "kernelspec": {
   "display_name": "Python [conda env:base] *",
   "language": "python",
   "name": "conda-base-py"
  },
  "language_info": {
   "codemirror_mode": {
    "name": "ipython",
    "version": 3
   },
   "file_extension": ".py",
   "mimetype": "text/x-python",
   "name": "python",
   "nbconvert_exporter": "python",
   "pygments_lexer": "ipython3",
   "version": "3.12.7"
  }
 },
 "nbformat": 4,
 "nbformat_minor": 5
}
