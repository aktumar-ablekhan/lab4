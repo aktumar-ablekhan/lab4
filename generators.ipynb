{
 "cells": [
  {
   "cell_type": "code",
   "execution_count": 3,
   "id": "3e4a7150-5204-4706-ab0c-7b0c4a5b8857",
   "metadata": {},
   "outputs": [
    {
     "name": "stdin",
     "output_type": "stream",
     "text": [
      "N =  5\n"
     ]
    },
    {
     "name": "stdout",
     "output_type": "stream",
     "text": [
      "0\n",
      "1\n",
      "4\n",
      "9\n",
      "16\n",
      "25\n"
     ]
    }
   ],
   "source": [
    "def square(N):\n",
    "    for i in range(N + 1):\n",
    "        yield i ** 2\n",
    "\n",
    "N = int( input(\"N = \"))\n",
    "gen = square(N)\n",
    "\n",
    "for i in gen:\n",
    "    print(i)"
   ]
  },
  {
   "cell_type": "code",
   "execution_count": 19,
   "id": "d12d391b-bbe0-49ee-a195-362b5652104f",
   "metadata": {},
   "outputs": [
    {
     "name": "stdin",
     "output_type": "stream",
     "text": [
      "n =  9\n"
     ]
    },
    {
     "name": "stdout",
     "output_type": "stream",
     "text": [
      "0,2,4,6,8\n"
     ]
    }
   ],
   "source": [
    "def even_numbers(n):\n",
    "    for i in range(0, n + 1, 2):\n",
    "        yield i\n",
    "\n",
    "n = int(input(\"n = \"))\n",
    "print(\",\".join(map(str, even_numbers(n))))\n"
   ]
  },
  {
   "cell_type": "code",
   "execution_count": 23,
   "id": "9409dd5b-f2db-41cd-94c1-7105cf442ed4",
   "metadata": {},
   "outputs": [
    {
     "name": "stdin",
     "output_type": "stream",
     "text": [
      "n =  50\n"
     ]
    },
    {
     "name": "stdout",
     "output_type": "stream",
     "text": [
      "0 12 24 36 48 "
     ]
    }
   ],
   "source": [
    "def three_four(n):\n",
    "    for i in range(0, n + 1):\n",
    "        if i % 12 == 0:\n",
    "            yield i\n",
    "n = int(input(\"n = \"))\n",
    "for num in three_four(n):\n",
    "    print(num, end=\" \")"
   ]
  },
  {
   "cell_type": "code",
   "execution_count": 25,
   "id": "7aeea08a-c6ce-4be2-9c3f-e5722e2eead2",
   "metadata": {},
   "outputs": [
    {
     "name": "stdin",
     "output_type": "stream",
     "text": [
      "a =  4\n",
      "b =  9\n"
     ]
    },
    {
     "name": "stdout",
     "output_type": "stream",
     "text": [
      "16\n",
      "25\n",
      "36\n",
      "49\n",
      "64\n",
      "81\n"
     ]
    }
   ],
   "source": [
    "def squares(a, b):\n",
    "    for i in range(a, b + 1):\n",
    "        yield i * i\n",
    "a = int(input(\"a = \"))\n",
    "b = int(input(\"b = \"))\n",
    "for square in squares(a, b):\n",
    "    print(square)"
   ]
  },
  {
   "cell_type": "code",
   "execution_count": 29,
   "id": "5b72e8cb-9abf-45b0-8de7-3593029189fd",
   "metadata": {},
   "outputs": [
    {
     "name": "stdin",
     "output_type": "stream",
     "text": [
      "n =  10\n"
     ]
    },
    {
     "name": "stdout",
     "output_type": "stream",
     "text": [
      "10\n",
      "9\n",
      "8\n",
      "7\n",
      "6\n",
      "5\n",
      "4\n",
      "3\n",
      "2\n",
      "1\n",
      "0\n"
     ]
    }
   ],
   "source": [
    "def reverse(n):\n",
    "    for i in range(n, -1, -1):\n",
    "        yield i\n",
    "n = int(input(\"n = \"))\n",
    "for i in reverse(n):\n",
    "    print(i)"
   ]
  },
  {
   "cell_type": "code",
   "execution_count": null,
   "id": "9168aa2d-aa35-464d-bf6b-18f05ee13bba",
   "metadata": {},
   "outputs": [],
   "source": []
  }
 ],
 "metadata": {
  "kernelspec": {
   "display_name": "Python [conda env:base] *",
   "language": "python",
   "name": "conda-base-py"
  },
  "language_info": {
   "codemirror_mode": {
    "name": "ipython",
    "version": 3
   },
   "file_extension": ".py",
   "mimetype": "text/x-python",
   "name": "python",
   "nbconvert_exporter": "python",
   "pygments_lexer": "ipython3",
   "version": "3.12.7"
  }
 },
 "nbformat": 4,
 "nbformat_minor": 5
}
