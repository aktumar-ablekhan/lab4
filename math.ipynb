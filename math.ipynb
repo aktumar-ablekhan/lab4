{
 "cells": [
  {
   "cell_type": "code",
   "execution_count": 3,
   "id": "b736702e-d63c-4db9-9975-adfd9c07e88d",
   "metadata": {},
   "outputs": [
    {
     "name": "stdin",
     "output_type": "stream",
     "text": [
      "Input degree:  15\n"
     ]
    },
    {
     "name": "stdout",
     "output_type": "stream",
     "text": [
      "Output radian:  0.2617993877991494\n"
     ]
    }
   ],
   "source": [
    "import math\n",
    "a = int(input(\"Input degree: \"))\n",
    "print (\"Output radian: \", math.radians(a))"
   ]
  },
  {
   "cell_type": "code",
   "execution_count": 7,
   "id": "264993aa-8caa-4f43-a02c-b973e4ced3d2",
   "metadata": {},
   "outputs": [
    {
     "name": "stdin",
     "output_type": "stream",
     "text": [
      "Height:  5\n",
      "Base, first value:  5\n",
      "Base, second value:  6\n"
     ]
    },
    {
     "name": "stdout",
     "output_type": "stream",
     "text": [
      "Expected Output:  27.5\n"
     ]
    }
   ],
   "source": [
    "import math\n",
    "h = int(input(\"Height: \"))\n",
    "value_1 = int(input(\"Base, first value: \"))\n",
    "value_2 = int(input(\"Base, second value: \"))\n",
    "area = (value_1 + value_2) * h / 2\n",
    "print(\"Expected Output: \", area)"
   ]
  },
  {
   "cell_type": "code",
   "execution_count": 17,
   "id": "5a91e083-4fdc-4315-a8f9-6dcb57bbe339",
   "metadata": {},
   "outputs": [
    {
     "name": "stdin",
     "output_type": "stream",
     "text": [
      "number of sides:  4\n",
      "the length of a side:  25\n"
     ]
    },
    {
     "name": "stdout",
     "output_type": "stream",
     "text": [
      "The area of the polygon is:  625.0000000000001\n"
     ]
    }
   ],
   "source": [
    "import math\n",
    "n = int(input(\"number of sides: \"))\n",
    "l = int(input(\"the length of a side: \"))\n",
    "area = n * l * l / (4 * math.tan(math.pi/n))\n",
    "print(\"The area of the polygon is: \", area)"
   ]
  },
  {
   "cell_type": "code",
   "execution_count": 19,
   "id": "1fb4d583-2732-47c7-be9e-527cae287e81",
   "metadata": {},
   "outputs": [
    {
     "name": "stdin",
     "output_type": "stream",
     "text": [
      "Length of base:  5\n",
      "Height of parallelogram:  6\n"
     ]
    },
    {
     "name": "stdout",
     "output_type": "stream",
     "text": [
      "Expected Output:  30\n"
     ]
    }
   ],
   "source": [
    "import math\n",
    "l = int(input(\"Length of base: \"))\n",
    "h = int(input(\"Height of parallelogram: \"))\n",
    "area = l * h\n",
    "print(\"Expected Output: \", area)"
   ]
  },
  {
   "cell_type": "code",
   "execution_count": null,
   "id": "ff9c2856-ce3d-4c0d-8dd2-c8bd78ebb598",
   "metadata": {},
   "outputs": [],
   "source": []
  }
 ],
 "metadata": {
  "kernelspec": {
   "display_name": "Python [conda env:base] *",
   "language": "python",
   "name": "conda-base-py"
  },
  "language_info": {
   "codemirror_mode": {
    "name": "ipython",
    "version": 3
   },
   "file_extension": ".py",
   "mimetype": "text/x-python",
   "name": "python",
   "nbconvert_exporter": "python",
   "pygments_lexer": "ipython3",
   "version": "3.12.7"
  }
 },
 "nbformat": 4,
 "nbformat_minor": 5
}
